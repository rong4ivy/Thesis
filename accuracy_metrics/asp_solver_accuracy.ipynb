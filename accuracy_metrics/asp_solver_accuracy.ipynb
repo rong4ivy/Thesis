{
 "cells": [
  {
   "cell_type": "code",
   "execution_count": null,
   "metadata": {},
   "outputs": [],
   "source": []
  },
  {
   "cell_type": "code",
   "execution_count": 61,
   "metadata": {},
   "outputs": [
    {
     "name": "stdout",
     "output_type": "stream",
     "text": [
      "Accuracy: 0.8100\n"
     ]
    }
   ],
   "source": [
    "import json\n",
    "\n",
    "def accuracy(predictions, actuals):\n",
    "    # Define synonym mappings\n",
    "    synonyms = {\n",
    "        \"top\": \"above\",\n",
    "        \"top_right\": \"upper-right\",\n",
    "        \"top_left\": \"upper-left\",\n",
    "        \"down\": \"below\",\n",
    "        \"down_right\": \"lower-right\",\n",
    "        \"down_left\": \"lower-left\", \n",
    "    }\n",
    "    \n",
    "    # Normalize predictions and actual answers using synonyms\n",
    "    normalized_predictions = [synonyms.get(pred, pred) for pred in predictions]\n",
    "    normalized_actuals = [synonyms.get(act, act) for act in actuals]\n",
    "    \n",
    "    # Calculate the number of correct predictions\n",
    "    correct_predictions = sum(pred == act for pred, act in zip(normalized_predictions, normalized_actuals))\n",
    "    \n",
    "    # Calculate accuracy\n",
    "    accuracy_value = correct_predictions / len(actuals) if actuals else 0\n",
    "    return accuracy_value\n",
    "\n",
    "def main(file_path):\n",
    "    # Read the JSON file\n",
    "    with open(file_path, 'r') as file:\n",
    "        data = json.load(file)\n",
    "    \n",
    "    # Extract predictions and actual answers\n",
    "    predictions = [item['asp_result'] for item in data]\n",
    "    actuals = [item['actual_answer'] for item in data]\n",
    "    \n",
    "    # Calculate accuracy\n",
    "    acc = accuracy(predictions, actuals)\n",
    "    print(f\"Accuracy: {acc:.4f}\")\n",
    "\n",
    "# Example usage\n",
    "if __name__ == \"__main__\":\n",
    "    file_path = 'gpt_qa1.json'  # Replace with your JSON file path\n",
    "    main(file_path)\n"
   ]
  }
 ],
 "metadata": {
  "kernelspec": {
   "display_name": "llm_test",
   "language": "python",
   "name": "python3"
  },
  "language_info": {
   "codemirror_mode": {
    "name": "ipython",
    "version": 3
   },
   "file_extension": ".py",
   "mimetype": "text/x-python",
   "name": "python",
   "nbconvert_exporter": "python",
   "pygments_lexer": "ipython3",
   "version": "3.12.3"
  }
 },
 "nbformat": 4,
 "nbformat_minor": 2
}
