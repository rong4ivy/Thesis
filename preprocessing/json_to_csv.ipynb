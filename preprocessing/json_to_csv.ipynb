{
 "cells": [
  {
   "cell_type": "code",
   "execution_count": 12,
   "metadata": {},
   "outputs": [
    {
     "name": "stdout",
     "output_type": "stream",
     "text": [
      "Conversion completed.\n"
     ]
    }
   ],
   "source": [
    "import json\n",
    "import csv\n",
    "import os\n",
    "\n",
    "\n",
    "# List of file name\n",
    "\n",
    "file_names = ['train_resq.json','dev_resq.json','test_resq.json']\n",
    "csv_rows = []\n",
    "headers = [\"Context_id\", \"Story\", \"Question\", \"Question_Type\", \"Answer\", \"Candidate_Answers\", \"Steps_of_Reasoning\", \"Is_Commonsense_Question\"]\n",
    "\n",
    "for file in file_names:\n",
    "    with open(file, 'r') as json_file:\n",
    "        # Step 2: Parse the JSON data\n",
    "        data = json.load(json_file)\n",
    "# Step 3: Extract the relevant information and prepare CSV rows\n",
    "        for item in data[\"data\"]:\n",
    "            context_id = item[\"Context_id\"]\n",
    "            story = \" \".join(item[\"story\"])\n",
    "            \n",
    "            for question in item[\"questions\"]:\n",
    "                csv_rows.append({\n",
    "                    \"Context_id\": context_id,\n",
    "                    \"Story\": story,\n",
    "                    \"Question\": question[\"question\"],\n",
    "                    \"Question_Type\": question[\"q_type\"],\n",
    "                    \"Answer\": \", \".join(question[\"answer\"]),\n",
    "                    \"Candidate_Answers\": \", \".join(question[\"candidate_answers\"]),\n",
    "                    \"Steps_of_Reasoning\": question[\"step_of_reasoning\"],\n",
    "                    \"Is_Commonsense_Question\": question[\"commonsense_question\"]\n",
    "                })\n",
    "\n",
    "# Step 4: Write the data to a CSV file\n",
    "with open('Resq.csv', 'w', newline='', encoding='utf-8') as csv_file:\n",
    "    writer = csv.DictWriter(csv_file, fieldnames=headers)\n",
    "    \n",
    "    # Write the headers\n",
    "    writer.writeheader()\n",
    "    \n",
    "    # Write the data rows\n",
    "    for row in csv_rows:\n",
    "        writer.writerow(row)\n",
    "\n",
    "print(\"Conversion completed.\")\n",
    "\n"
   ]
  }
 ],
 "metadata": {
  "kernelspec": {
   "display_name": "dspy",
   "language": "python",
   "name": "python3"
  },
  "language_info": {
   "codemirror_mode": {
    "name": "ipython",
    "version": 3
   },
   "file_extension": ".py",
   "mimetype": "text/x-python",
   "name": "python",
   "nbconvert_exporter": "python",
   "pygments_lexer": "ipython3",
   "version": "3.12.3"
  }
 },
 "nbformat": 4,
 "nbformat_minor": 2
}
